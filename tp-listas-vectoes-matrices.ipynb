{
 "cells": [
  {
   "cell_type": "markdown",
   "id": "abbb1bdd",
   "metadata": {},
   "source": [
    "## Trabajo Practico - Listas, Vectores, Matrices"
   ]
  },
  {
   "cell_type": "markdown",
   "id": "748a9082",
   "metadata": {},
   "source": [
    "### Para todos los ejercicios:"
   ]
  },
  {
   "cell_type": "markdown",
   "id": "29ec8af3",
   "metadata": {},
   "source": [
    "* Leer atentamente el enunciado.\n",
    "* Resolverlo manualmente con lápiz y papel.\n",
    "* Seleccionar datos de prueba de los que conozcan el resultado. Los datos de prueba deben probar todas las opciones.\n",
    "* Realizar el algoritmo.\n",
    "* Realizar el programa.\n",
    "* Probarlo con los datos de prueba."
   ]
  },
  {
   "cell_type": "markdown",
   "id": "1d23a1bf",
   "metadata": {},
   "source": [
    "### Listas, Vectores y Matrices"
   ]
  },
  {
   "cell_type": "markdown",
   "id": "9e949434",
   "metadata": {},
   "source": [
    "1) Realizar una función para normalizar un vector. La función recibe un vector de longitud indeterminada de\n",
    "float, y debe devolver un nuevo vector normalizado, es decir el módulo del vector debe ser 1.\n",
    "Ejemplo:\n",
    "vector1 = [1, 1, 1] -> [0.577..., 0.577...8, 0.577...]\n",
    "vector2 = [1, 3, 7, 9] -> [0.084..., 0.253..., 0.591..., 0.760...]"
   ]
  },
  {
   "cell_type": "code",
   "execution_count": 54,
   "id": "1e09e862",
   "metadata": {},
   "outputs": [
    {
     "name": "stdout",
     "output_type": "stream",
     "text": [
      "¿Cuantos elementos tendra su vector?: 3\n",
      "Ingrese su 1 vector: 1\n",
      "Ingrese su 2 vector: 1\n",
      "Ingrese su 3 vector: 1\n",
      "El valor normalizado de su vector es: [0.5773502691896258, 0.5773502691896258, 0.5773502691896258]\n"
     ]
    }
   ],
   "source": [
    "#Nicolás PECORA\n",
    "\n",
    "import math\n",
    "\n",
    "def vectores(vector):\n",
    "    \"\"\"Vectores es una función para normalizar un vector. \n",
    "    Recibe una variable que posee un vector de longitud indeterminada de float y debe devolvuelve un nuevo vector normalizado.\n",
    "    \"\"\"\n",
    "    resultado,elemento,normalizado = 0,0,[]\n",
    "    for x in vector:\n",
    "        elemento += x ** 2\n",
    "    resultado = math.sqrt(elemento)\n",
    "    for x in vector:\n",
    "            normalizado.append(x / resultado)\n",
    "    return normalizado\n",
    "\n",
    "elementos,vector = int(input(\"¿Cuantos elementos tendra su vector?: \")),[]\n",
    "for x in range(elementos):\n",
    "    vector.append(float(input(f\"Ingrese su {x + 1} vector: \")))\n",
    "\n",
    "print (f\"El valor normalizado de su vector es: {vectores(vector)}\")\n",
    "\n",
    "\n"
   ]
  },
  {
   "cell_type": "markdown",
   "id": "171712e1",
   "metadata": {},
   "source": [
    "2) Construir una función que elimine los elementos duplicados en una lista. La función recibe una lista, y\n",
    "debe devolver una lista que contenga una sola copia de cada elemento de la lista suministrada.\n",
    "Ejemplo:\n",
    "lista1 = [1, 4, 1, 5, 4, 1] -> [1, 4, 5]\n",
    "lista2 = [\"Juan\",\"Luis\",\"Juan\",\"Ana\",\"Luis\"] -> [\"Juan\",\"Luis\",\"Ana\"]\n"
   ]
  },
  {
   "cell_type": "code",
   "execution_count": 55,
   "id": "0ecd4008",
   "metadata": {},
   "outputs": [
    {
     "name": "stdout",
     "output_type": "stream",
     "text": [
      "¿Cuantos elementos tendra su lista?: 5\n",
      "Ingrese su 1 elemento: 2\n",
      "Ingrese su 2 elemento: 3\n",
      "Ingrese su 3 elemento: 2\n",
      "Ingrese su 4 elemento: 3\n",
      "Ingrese su 5 elemento: 4\n",
      "Su lista sin duplicados es: ['2', '3', '4']\n"
     ]
    }
   ],
   "source": [
    "#Nicolas PECORA\n",
    "\n",
    "def elimina_duplicados(lista):\n",
    "    \"\"\" La función elimina_duplicados recibe una variable una lista, y\n",
    "    debe devuelve una lista que contiene una sola copia de cada elemento de la lista suministrada.\"\"\"\n",
    "    lista2 = []\n",
    "    for elemento in lista:\n",
    "        if elemento not in lista2:\n",
    "            lista2.append(elemento)\n",
    "    return lista2\n",
    "\n",
    "elementos = int(input(\"¿Cuantos elementos tendra su lista?: \"))\n",
    "lista = []\n",
    "for x in range(elementos):\n",
    "    lista.append(input(f\"Ingrese su {x + 1} elemento: \"))\n",
    "print (f\"Su lista sin duplicados es: {elimina_duplicados(lista)}\")\n"
   ]
  },
  {
   "cell_type": "markdown",
   "id": "ba727197",
   "metadata": {},
   "source": [
    "3) Realizar una función para mostrar por consola un tablero de ta-te-ti. La función recibe una matriz de 3x3\n",
    "con la situación actual del juego. Cada elemento de la matriz contiene “x”, “o”, o “ ”(espacio).\n",
    "Nota: normalmente evitamos que una función imprima directamente, pero en ocasiones es conveniente.\n",
    "Ejemplo:\n",
    "tablero = [[\"x\",\"o\",\" \"],[\"o\",\" \",\"x\"],[\"x\",\" \",\"o\"]]\n",
    "Resultado:\n",
    "x | o |\n",
    "---+---+---\n",
    "o | | x\n",
    "---+---+---\n",
    "x | | o"
   ]
  },
  {
   "cell_type": "code",
   "execution_count": 57,
   "id": "4ea8125e",
   "metadata": {},
   "outputs": [
    {
     "name": "stdout",
     "output_type": "stream",
     "text": [
      " x | o |    \n",
      "---+---+---\n",
      " o |   | x  \n",
      "---+---+---\n",
      " x |   | o  \n"
     ]
    }
   ],
   "source": [
    "#Nicolás PECORA\n",
    "\n",
    "def tateti(matriz):\n",
    "    \"\"\"La función tateti muestra por consola un tablero de ta-te-ti.\n",
    "La función recibe una variable que posee una matriz de 3x3 con la situación actual del juego.\n",
    "Cada elemento de la matriz contiene “x”, “o”, o “ ”(espacio).\n",
    "la funcion imprimme en pantalla la jugada ingresada\"\"\"\n",
    "    b = \"\"\n",
    "    for i in range(3):\n",
    "        for j in range (3):\n",
    "            if j == 2:\n",
    "                b+= \" \" + str(matriz[i][j]) + \"  \"\n",
    "            else:\n",
    "                b+= \" \" + str(matriz[i][j]) + \" |\"\n",
    "        if i == 2: \n",
    "            print(b) \n",
    "        else: \n",
    "            print(f\"{b}\\n---+---+---\")\n",
    "        b = \"\"\n",
    "\n",
    "tablero = [[\"x\",\"o\",\" \"],[\"o\",\" \",\"x\"],[\"x\",\" \",\"o\"]]\n",
    "tateti(tablero)"
   ]
  },
  {
   "cell_type": "markdown",
   "id": "59607bbf",
   "metadata": {},
   "source": [
    "4) Realizar una función para buscar si hay ganador en un juego de ta-te-ti. La función recibe una matriz de\n",
    "3x3 con la situación actual del juego. Cada elemento de la matriz contiene “x”, “o” o “ ”(espacio), igual que\n",
    "en el ejercicio 3. La función debe devolver un None si no hay ganador, o devolver “x” o “o” según si el\n",
    "ganador es la “x” o la “o”.\n",
    "Ejemplo:\n",
    "tablero1 = [[\"x\",\"o\",\" \"],[\"o\",\" \",\"x\"],[\"x\",\" \",\"o\"]] -> None\n",
    "tablero2 = [[\"x\",\"o\",\" \"],[\"x\",\"o\",\"x\"],[\"x\",\" \",\"o\"]] -> \"x\"\n"
   ]
  },
  {
   "cell_type": "code",
   "execution_count": 58,
   "id": "d52de18f",
   "metadata": {},
   "outputs": [
    {
     "name": "stdout",
     "output_type": "stream",
     "text": [
      "None\n",
      "x\n"
     ]
    }
   ],
   "source": [
    "def comprobar_jugada(jugada):\n",
    "    \"\"\"La función comprobar_jugada es utilizada para buscar si hay ganador en un juego de ta-te-ti.\n",
    "La función recibe una variable donde en ella hay una matriz de 3x3 con la situación actual del juego.\n",
    "Cada elemento de la matriz contiene \"x\", \"o\" o “ ”(espacio).\n",
    "La función devuelve un None si no hay ganador, “x” o “o” según si el ganador es la “x” o la “o”.\n",
    "\"\"\"\n",
    "    for x in [\"x\",\"o\"]:\n",
    "        if(jugada[0][0] == jugada[0][1] == jugada[0][2] == x \n",
    "        or jugada[1][0] == jugada[1][1] == jugada[1][2] == x \n",
    "        or jugada[2][0] == jugada[2][1] == jugada[2][2] == x\n",
    "        or jugada[0][0] == jugada[1][0] == jugada[2][0] == x\n",
    "        or jugada[0][1] == jugada[1][1] == jugada[2][1] == x\n",
    "        or jugada[0][2] == jugada[1][2] == jugada[2][2] == x\n",
    "        or jugada[0][0] == jugada[1][1] == jugada[2][2] == x\n",
    "        or jugada[2][0] == jugada[1][1] == jugada[2][0] == x\n",
    "            ):\n",
    "            return x\n",
    "\n",
    "tablero1 = [[\"x\",\"o\",\" \"],[\"o\",\" \",\"x\"],[\"x\",\" \",\"o\"]] \n",
    "tablero2 = [[\"x\",\"o\",\" \"],[\"x\",\"o\",\"x\"],[\"x\",\" \",\"o\"]] \n",
    "\n",
    "print (comprobar_jugada(tablero1))\n",
    "print(comprobar_jugada(tablero2))"
   ]
  },
  {
   "cell_type": "markdown",
   "id": "ee2c9717",
   "metadata": {},
   "source": [
    "5) Construir una función para calcular la superficie de un polígono cualquiera, dados sus vértices utilizando la\n",
    "fórmula del área de Gauss. La función recibe una lista de vértices, la cantidad de vértices es\n",
    "indeterminada. Cada vértice es un vector de dos elementos con la posición (x, y). La función debe devolver\n",
    "un float con la superficie del polígono.\n",
    "Pueden encontrar el método en:\n",
    "https://es.wikipedia.org/wiki/F%C3%B3rmula_del_%C3%A1rea_de_Gauss\n",
    "Ejemplo:\n",
    "p1 = [[0,0], [0,1], [1,1], [1,0]] -> 1.0\n",
    "p2 = [[1,1], [1,4], [5,1]] -> 6.0"
   ]
  },
  {
   "cell_type": "code",
   "execution_count": 59,
   "id": "669bca8c",
   "metadata": {},
   "outputs": [
    {
     "name": "stdout",
     "output_type": "stream",
     "text": [
      "1.0\n",
      "6.0\n"
     ]
    }
   ],
   "source": [
    "#Nicolás PECORA\n",
    "#25838372\n",
    "#nicolaspecora@gmail.com\n",
    "def gauss(matriz):\n",
    "    \"\"\"\n",
    "    Función gauss. La función recibe una variable que es una lista de vértices indeterminada.\n",
    "    Cada vértice es un vector de dos elementos con la posición (x, y).\n",
    "    La función devuelve un float con la superficie del polígono.\n",
    "    \"\"\"\n",
    "    primera_suma, segunda_suma, resultado = 0,0,0\n",
    "    matriz.append([matriz[0][0],matriz[0][1]])\n",
    "    for x in range((len(matriz))-1):\n",
    "            primera_suma += matriz[x][0] * matriz[x+1][1]\n",
    "            segunda_suma += matriz[x][1] * matriz[x+1][0]\n",
    "    resultado = abs((primera_suma - segunda_suma)*1/2)\n",
    "    return resultado    \t\n",
    "\n",
    "p1 = [[0,0],[0,1],[1,1],[1,0]]\n",
    "p2 = [[1,1],[1,4],[5,1]]\n",
    "print(gauss(p1))\n",
    "print(gauss(p2))"
   ]
  }
 ],
 "metadata": {
  "kernelspec": {
   "display_name": "Python 3 (ipykernel)",
   "language": "python",
   "name": "python3"
  },
  "language_info": {
   "codemirror_mode": {
    "name": "ipython",
    "version": 3
   },
   "file_extension": ".py",
   "mimetype": "text/x-python",
   "name": "python",
   "nbconvert_exporter": "python",
   "pygments_lexer": "ipython3",
   "version": "3.10.9"
  }
 },
 "nbformat": 4,
 "nbformat_minor": 5
}
