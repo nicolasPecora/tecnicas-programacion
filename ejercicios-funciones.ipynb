{
 "cells": [
  {
   "cell_type": "markdown",
   "id": "5570a055",
   "metadata": {},
   "source": [
    "## Ejercicios programación (Python)"
   ]
  },
  {
   "cell_type": "markdown",
   "id": "501fcea0",
   "metadata": {},
   "source": [
    "### Para todos los ejercicios:"
   ]
  },
  {
   "cell_type": "markdown",
   "id": "bcc50cec",
   "metadata": {},
   "source": [
    "* Leer atentamente el enunciado.\n",
    "* Resolverlo manualmente con lápiz y papel.\n",
    "* Seleccionar datos de prueba de los que conozcan el resultado. Los datos de prueba deben probar todas las opciones.\n",
    "* Realizar el algoritmo.\n",
    "* Realizar el programa.\n",
    "* Probarlo con los datos de prueba."
   ]
  },
  {
   "cell_type": "markdown",
   "id": "d66ab1cc",
   "metadata": {},
   "source": [
    "### Funciones"
   ]
  },
  {
   "cell_type": "markdown",
   "id": "17a4fe8e",
   "metadata": {},
   "source": [
    "#### En todos los casos realizar una (o más) función(es) que cumpla con la consigna.\n"
   ]
  },
  {
   "cell_type": "markdown",
   "id": "b7711e3c",
   "metadata": {},
   "source": [
    "1) Corregir el código para cumplir con la consigna. Crear una función que dados 2 números, devolver el promedio."
   ]
  },
  {
   "cell_type": "code",
   "execution_count": 8,
   "id": "cde070fc",
   "metadata": {},
   "outputs": [
    {
     "name": "stdout",
     "output_type": "stream",
     "text": [
      "Ingrese el valor 1:34\n",
      "Ingrese el valor 2:45\n",
      "Promedio: None\n"
     ]
    }
   ],
   "source": [
    "def promedio(valor1, valor2):\n",
    "    \"\"\"\n",
    "    Función promedio: Calcula el promedio de 2 números.\n",
    "    Entrada: valor1, valor2\n",
    "    Salida: Promedio (float)\n",
    "    \"\"\"\n",
    "    promedio = (valor1 + valor2)/2.0\n",
    "\n",
    "#Programa principal\n",
    "n1 = float(input(\"Ingrese el valor 1:\"))\n",
    "n2 = float(input(\"Ingrese el valor 2:\"))\n",
    "prom = promedio(n1,n2)\n",
    "print(\"Promedio:\",prom)"
   ]
  },
  {
   "cell_type": "code",
   "execution_count": 7,
   "id": "b9a436cf",
   "metadata": {},
   "outputs": [
    {
     "name": "stdout",
     "output_type": "stream",
     "text": [
      "Ingrese el valor 1:23\n",
      "Ingrese el valor 2:45\n",
      "Promedio: 34.0\n"
     ]
    }
   ],
   "source": [
    "#Correccion\n",
    "def promedio(valor1, valor2):\n",
    "    \"\"\"\n",
    "    Función promedio: Calcula el promedio de 2 números.\n",
    "    Entrada: valor1, valor2\n",
    "    Salida: Promedio (float)\n",
    "    \"\"\"\n",
    "    promedio = (valor1 + valor2)/2.0\n",
    "    return promedio\n",
    "\n",
    "#Programa principal\n",
    "n1 = float(input(\"Ingrese el valor 1:\"))\n",
    "n2 = float(input(\"Ingrese el valor 2:\"))\n",
    "\n",
    "print(\"Promedio:\", promedio(n1,n2))"
   ]
  },
  {
   "cell_type": "markdown",
   "id": "2ea632d9",
   "metadata": {},
   "source": [
    "2) Corregir el código para cumplir con la consigna.Crear una función que dados las medidas de 3 segmentos, devuelva True si se puede formar un triángulo y False si no se puede formar un triángulo con ellos."
   ]
  },
  {
   "cell_type": "code",
   "execution_count": 9,
   "id": "71312480",
   "metadata": {},
   "outputs": [
    {
     "name": "stdout",
     "output_type": "stream",
     "text": [
      "Ingrese la longitud del 1er lado:34\n",
      "Ingrese la longitud del 2do lado:23\n",
      "Ingrese la longitud del 3er lado:12\n",
      "Se puede formar un triángulo\n"
     ]
    }
   ],
   "source": [
    "def es_triangulo (A, B, C):\n",
    "    \"\"\"\n",
    "    Función es_triángulo: Verifica si se puede formar un\n",
    "    triángulo, dados las medidas de 3 segmentos.\n",
    "    Si la suma de 2 lados en menor que el tercero, no se puede\n",
    "    hacer un triángulo\n",
    "    \"\"\"\n",
    "    if (A+B)>C:\n",
    "        return True\n",
    "    elif (A+C)>B:\n",
    "        return True\n",
    "    elif (B+C)>A:\n",
    "        return True\n",
    "    else:\n",
    "        return False\n",
    "#Programa principal\n",
    "\n",
    "L1 = float(input(\"Ingrese la longitud del 1er lado:\"))\n",
    "L2 = float(input(\"Ingrese la longitud del 2do lado:\"))\n",
    "L3 = float(input(\"Ingrese la longitud del 3er lado:\"))\n",
    "if es_triangulo(L1,L2,L3):\n",
    "    print(\"Se puede formar un triángulo\")\n",
    "else:\n",
    "    print(\"No se puede formar un triángulo\")"
   ]
  },
  {
   "cell_type": "code",
   "execution_count": 11,
   "id": "10b4b74f",
   "metadata": {},
   "outputs": [
    {
     "name": "stdout",
     "output_type": "stream",
     "text": [
      "Ingrese la longitud del 1er lado: 1\n",
      "Ingrese la longitud del 2do lado: 2\n",
      "Ingrese la longitud del 3er lado: 12\n",
      "No se puede formar un triángulo\n"
     ]
    }
   ],
   "source": [
    "#Correccion\n",
    "def es_triangulo (A, B, C):\n",
    "    \"\"\"\n",
    "    Función es_triángulo: Verifica si se puede formar un\n",
    "    triángulo, dados las medidas de 3 segmentos.\n",
    "    Si la suma de 2 lados es menor que el tercero, no se puede\n",
    "    hacer un triángulo\n",
    "    \"\"\"\n",
    "    if (A+B) < C or (A+C) < B or (B+C) < A:\n",
    "        return False\n",
    "    else:\n",
    "        return True\n",
    "#Programa principal\n",
    "\n",
    "L1 = float(input(\"Ingrese la longitud del 1er lado: \"))\n",
    "L2 = float(input(\"Ingrese la longitud del 2do lado: \"))\n",
    "L3 = float(input(\"Ingrese la longitud del 3er lado: \"))\n",
    "if es_triangulo(L1,L2,L3):\n",
    "    print(\"Se puede formar un triángulo\")\n",
    "else:\n",
    "    print(\"No se puede formar un triángulo\")"
   ]
  },
  {
   "cell_type": "markdown",
   "id": "85fe2608",
   "metadata": {},
   "source": [
    "3) Dado un número, devolver True si es par, False si es impar"
   ]
  },
  {
   "cell_type": "code",
   "execution_count": 13,
   "id": "e93d0eab",
   "metadata": {},
   "outputs": [
    {
     "name": "stdout",
     "output_type": "stream",
     "text": [
      "Ingrese Numero: 23\n",
      "Numero impar\n"
     ]
    }
   ],
   "source": [
    "def num_par (par):\n",
    "    \"\"\"\n",
    "    Función numero par: Verifica si un numero es par\n",
    "    Devuelve un valor True para par y False para impar\n",
    "    \"\"\"\n",
    "    if par % 2 == 0:\n",
    "        return True\n",
    "    else:\n",
    "        return False\n",
    "#Programa principal\n",
    "\n",
    "Num = int(input(\"Ingrese Numero: \"))\n",
    "\n",
    "\n",
    "if num_par(Num) is True:\n",
    "    print(\"Numero Par\")\n",
    "else:\n",
    "    print(\"Numero impar\")"
   ]
  },
  {
   "cell_type": "markdown",
   "id": "f7aa365f",
   "metadata": {},
   "source": [
    "4) Dado dos números, devolver el mayor."
   ]
  },
  {
   "cell_type": "code",
   "execution_count": 14,
   "id": "98bd0bd4",
   "metadata": {},
   "outputs": [
    {
     "name": "stdout",
     "output_type": "stream",
     "text": [
      "Ingrese Numero: 56\n",
      "Ingrese Numero: 89\n",
      "El numero mayor es:  89\n"
     ]
    }
   ],
   "source": [
    "def mayor (a,b):\n",
    "    \"\"\"\n",
    "    Función mayor: Verifica si un numero es mayor a otro\n",
    "    Devuelve un numero que es el mayor de los dos\n",
    "    \"\"\"\n",
    "    if a > b:\n",
    "        return a\n",
    "    else:\n",
    "        return b\n",
    "#Programa principal\n",
    "\n",
    "num_a = int(input(\"Ingrese Numero: \"))\n",
    "num_b = int(input(\"Ingrese Numero: \"))\n",
    "\n",
    "print(\"El numero mayor es: \", mayor(num_a, num_b))"
   ]
  },
  {
   "cell_type": "markdown",
   "id": "36e337bd",
   "metadata": {},
   "source": [
    "5) Dado 3 números, devolver el menor."
   ]
  },
  {
   "cell_type": "code",
   "execution_count": 15,
   "id": "db2df5d6",
   "metadata": {},
   "outputs": [
    {
     "name": "stdout",
     "output_type": "stream",
     "text": [
      "ingrese un numero: 34\n",
      "ingrese un numero: 56\n",
      "ingrese un numero: 78\n",
      "El numero menor es: 34\n"
     ]
    }
   ],
   "source": [
    "def menor(a,b,c):\n",
    "    \"\"\"Funcion menor: que definer el numero menor entre tres numeros\n",
    "       La funcion retorna el numero menor\"\"\"\n",
    "    if a < b:\n",
    "        if a < c:\n",
    "            return a\n",
    "        else:\n",
    "            return c\n",
    "    elif b < c:\n",
    "        return b\n",
    "    else:\n",
    "        return c\n",
    "# Programa principal\n",
    "A = int(input(\"ingrese un numero: \"))\n",
    "B = int(input(\"ingrese un numero: \"))\n",
    "C = int(input(\"ingrese un numero: \"))\n",
    "\n",
    "print(\"El numero menor es:\", menor(A,B,C))"
   ]
  },
  {
   "cell_type": "markdown",
   "id": "a1ca6b97",
   "metadata": {},
   "source": [
    "6) Dado 3 números, devolver el promedio."
   ]
  },
  {
   "cell_type": "code",
   "execution_count": 16,
   "id": "b9cb75ee",
   "metadata": {},
   "outputs": [
    {
     "name": "stdout",
     "output_type": "stream",
     "text": [
      "ingrese un numero: 23\n",
      "ingrese un numero: 45\n",
      "ingrese un numero: 67\n",
      "El promedio es: 45.0\n"
     ]
    }
   ],
   "source": [
    "def promedio(a,b,c):\n",
    "    \"\"\"Funcion menor: qSe ingresan tres numeros\n",
    "       La funcion retorna un numero promedio de los tres\"\"\"\n",
    "    return (a+b+c)/3\n",
    "# Programa principal\n",
    "A = int(input(\"ingrese un numero: \"))\n",
    "B = int(input(\"ingrese un numero: \"))\n",
    "C = int(input(\"ingrese un numero: \"))\n",
    "\n",
    "print(\"El promedio es:\", promedio(A,B,C))"
   ]
  },
  {
   "cell_type": "markdown",
   "id": "056b6a80",
   "metadata": {},
   "source": [
    "7) Dado un número, devolver True si es primo y False si no es primo."
   ]
  },
  {
   "cell_type": "code",
   "execution_count": 17,
   "id": "91c7bcd6",
   "metadata": {},
   "outputs": [
    {
     "name": "stdout",
     "output_type": "stream",
     "text": [
      "Ingrese Numero mayor a 1: 11\n",
      "El numero 11 es primo\n"
     ]
    }
   ],
   "source": [
    "def primo(a):\n",
    "    \"\"\"\n",
    "    Función primo nos devuelve si el numero ingresado es primo\n",
    "    Devuelve un valor True si lo es no False si no lo es\n",
    "    \"\"\"\n",
    "    contador = 0\n",
    "    for i in range(1, 1000000):\n",
    "        if a%i == 0:\n",
    "            contador +=1\n",
    "    if contador == 2:\n",
    "        return True\n",
    "    else:\n",
    "        return False\n",
    "    \n",
    "#Programa principal\n",
    "\n",
    "num_a = float(input(\"Ingrese Numero mayor a 1: \"))\n",
    "\n",
    "if primo(num_a) is True:\n",
    "    print(f\"El numero {int(num_a)} es primo\")\n",
    "else:\n",
    "    print(f\"El numero {int(num_a)} NO es primo\")"
   ]
  },
  {
   "cell_type": "markdown",
   "id": "8d38b677",
   "metadata": {},
   "source": [
    "8) Construir una función que tire los dados. La función recibe un entero que corresponde a la cantidad de dados a tirar. Todos los dados son de 6 caras. La función devuelve la suma de los valores de los dados. Investigar cómo obtener números al azar."
   ]
  },
  {
   "cell_type": "code",
   "execution_count": 19,
   "id": "e9fb9c8d",
   "metadata": {},
   "outputs": [
    {
     "name": "stdout",
     "output_type": "stream",
     "text": [
      "ingrese cantidad de dados: 5\n",
      "Dado 1: 1\n",
      "Dado 2: 6\n",
      "Dado 3: 1\n",
      "Dado 4: 3\n",
      "Dado 5: 2\n",
      "La suma de dados es: 13\n"
     ]
    }
   ],
   "source": [
    "def dados(a):\n",
    "    \"\"\"Funcion dados: recibe un numero que es la cantidad de dados y\n",
    "       la funcion devuelve un numero que es la suma de dados tirados\"\"\"\n",
    "    import random\n",
    "    suma_dado = 0\n",
    "    for b in range(0, a):\n",
    "        dado = random.randint(1,6)\n",
    "        print(f\"Dado {b+1}: {dado}\")\n",
    "        suma_dado += dado\n",
    "    return suma_dado    \n",
    "# Programa principal\n",
    "A = int(input(\"ingrese cantidad de dados: \"))\n",
    "\n",
    "print(\"La suma de dados es:\", dados(A))"
   ]
  }
 ],
 "metadata": {
  "kernelspec": {
   "display_name": "Python 3 (ipykernel)",
   "language": "python",
   "name": "python3"
  },
  "language_info": {
   "codemirror_mode": {
    "name": "ipython",
    "version": 3
   },
   "file_extension": ".py",
   "mimetype": "text/x-python",
   "name": "python",
   "nbconvert_exporter": "python",
   "pygments_lexer": "ipython3",
   "version": "3.10.9"
  }
 },
 "nbformat": 4,
 "nbformat_minor": 5
}
