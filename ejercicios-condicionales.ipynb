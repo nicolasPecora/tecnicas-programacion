{
 "cells": [
  {
   "cell_type": "markdown",
   "id": "f3be7498",
   "metadata": {},
   "source": [
    "## Ejercicios programación (Python)"
   ]
  },
  {
   "cell_type": "markdown",
   "id": "c5b357de",
   "metadata": {},
   "source": [
    "### Para todos los ejercicios:"
   ]
  },
  {
   "cell_type": "markdown",
   "id": "3793bcb8",
   "metadata": {},
   "source": [
    "* Leer atentamente el enunciado.\n",
    "* Resolverlo manualmente con lápiz y papel.\n",
    "* Seleccionar datos de prueba de los que conozcan el resultado. Los datos de prueba deben probar todas las opciones.\n",
    "* Realizar el algoritmo.\n",
    "* Realizar el programa.\n",
    "* Probarlo con los datos de prueba."
   ]
  },
  {
   "cell_type": "markdown",
   "id": "6b060f86",
   "metadata": {},
   "source": [
    "### Condicionales"
   ]
  },
  {
   "cell_type": "markdown",
   "id": "6228211f",
   "metadata": {},
   "source": [
    "1) Corregir el código para cumplir con la consigna. Ingresar la edad. Si es mayor de 16 años, informar la edad."
   ]
  },
  {
   "cell_type": "code",
   "execution_count": 15,
   "id": "4ab33e6c",
   "metadata": {},
   "outputs": [
    {
     "name": "stdout",
     "output_type": "stream",
     "text": [
      "Ingrese su edad:12\n",
      "La edad es: 12\n"
     ]
    }
   ],
   "source": [
    "edad = int(input(\"Ingrese su edad:\"))\n",
    "if (edad < 16):\n",
    "    print(\"La edad es:\",edad)"
   ]
  },
  {
   "cell_type": "code",
   "execution_count": 16,
   "id": "91232320",
   "metadata": {},
   "outputs": [
    {
     "name": "stdout",
     "output_type": "stream",
     "text": [
      "Ingrese su edad:12\n"
     ]
    }
   ],
   "source": [
    "edad=int(input(\"Ingrese su edad:\"))\n",
    "if (edad > 16):\n",
    "    print(\"La edad es:\",edad)"
   ]
  },
  {
   "cell_type": "markdown",
   "id": "e78543c9",
   "metadata": {},
   "source": [
    "2) Corregir el código para cumplir con la consigna. Ingresar el valor de 2 dados (de 6 caras) indicar si la suma es mayor o menor que 7.\n"
   ]
  },
  {
   "cell_type": "code",
   "execution_count": 18,
   "id": "01892e89",
   "metadata": {},
   "outputs": [
    {
     "name": "stdout",
     "output_type": "stream",
     "text": [
      "Ingrese el valor del 1er dado:3\n",
      "Ingrese el valor del 2do dado:3\n",
      "La suma es menor a 7\n"
     ]
    }
   ],
   "source": [
    "dado1=float(input(\"Ingrese el valor del 1er dado:\"))\n",
    "dado2=float(input(\"Ingrese el valor del 2do dado:\"))\n",
    "suma= dado2+dado1\n",
    "if (suma >7):\n",
    "    print(\"La suma es mayor a 7\")\n",
    "else:\n",
    "    print(\"La suma es menor a 7\")"
   ]
  },
  {
   "cell_type": "code",
   "execution_count": 20,
   "id": "fedb188d",
   "metadata": {},
   "outputs": [
    {
     "name": "stdout",
     "output_type": "stream",
     "text": [
      "Ingrese el valor del 1er dado:4\n",
      "Ingrese el valor del 2do dado:5\n",
      "La suma es mayor a 7\n"
     ]
    }
   ],
   "source": [
    "# Correccion\n",
    "dado1 = int(input(\"Ingrese el valor del 1er dado:\"))\n",
    "dado2 = int(input(\"Ingrese el valor del 2do dado:\"))\n",
    "suma = dado2 + dado1\n",
    "if (suma > 7):\n",
    "    print(\"La suma es mayor a 7\")\n",
    "else:\n",
    "    print(\"La suma es menor a 7\")\n"
   ]
  },
  {
   "cell_type": "markdown",
   "id": "266656dd",
   "metadata": {},
   "source": [
    "3)Ingresar la edad. Si es menor de 18 años, informar que debe ser mayos de 18 años.\n"
   ]
  },
  {
   "cell_type": "code",
   "execution_count": 22,
   "id": "82f84a01",
   "metadata": {},
   "outputs": [
    {
     "name": "stdout",
     "output_type": "stream",
     "text": [
      "ingrese edad: 17\n",
      "Debe ser mayor de 18 años\n"
     ]
    }
   ],
   "source": [
    "edad = int(input(\"ingrese edad: \"))\n",
    "if edad < 18:\n",
    "    print(\"Debe ser mayor de 18 años\")"
   ]
  },
  {
   "cell_type": "markdown",
   "id": "e5c74561",
   "metadata": {},
   "source": [
    "4) Ingresar la edad. Si es menor de 18 años, informar que debe ser mayos de 18, si es mayor, pedir el nombre y apellido.\n"
   ]
  },
  {
   "cell_type": "code",
   "execution_count": 24,
   "id": "571c2ae6",
   "metadata": {},
   "outputs": [
    {
     "name": "stdout",
     "output_type": "stream",
     "text": [
      "ingrese edad: 19\n",
      "Ingrese nombre y ApellidoNicolas Pecora\n"
     ]
    }
   ],
   "source": [
    "edad = int(input(\"ingrese edad: \"))\n",
    "if edad < 18:\n",
    "    print(\"Debe ser mayor de 18 años\")\n",
    "else:\n",
    "    input(\"Ingrese nombre y Apellido\")"
   ]
  },
  {
   "cell_type": "markdown",
   "id": "3a7124bc",
   "metadata": {},
   "source": [
    "5) Ingresar la edad. Si es menor de 16, informar que debe ser mayor de 16. Si esta entre 16 y 18, ingresar el nombre y el nombre de un mayor responsable. Si es mayor de 18 ingresar el nombre.\n"
   ]
  },
  {
   "cell_type": "code",
   "execution_count": 27,
   "id": "4c165893",
   "metadata": {},
   "outputs": [
    {
     "name": "stdout",
     "output_type": "stream",
     "text": [
      "ingrese edad: 17\n",
      "Ingrese Nombre de un mayor responsable: Nicolas\n"
     ]
    }
   ],
   "source": [
    "edad = int(input(\"ingrese edad: \"))\n",
    "if edad < 16:\n",
    "    print(\"Debe ser mayor de 16 años\")\n",
    "elif edad in [16,17,18]:\n",
    "    a= input(\"Ingrese Nombre de un mayor responsable: \")\n",
    "elif edad > 18:\n",
    "    b= input(\"Ingrese Nombre: \")"
   ]
  },
  {
   "cell_type": "markdown",
   "id": "63297bd6",
   "metadata": {},
   "source": [
    "6) Ingresar el nombre y la edad. Si la edad es mayor de 16, mostrar una bienvenida incluyendo el\n",
    "nombre. Si es menor, informar que debe ser mayor de 16."
   ]
  },
  {
   "cell_type": "code",
   "execution_count": 28,
   "id": "db03da31",
   "metadata": {},
   "outputs": [
    {
     "name": "stdout",
     "output_type": "stream",
     "text": [
      "ingrese edad: 17\n",
      "Ingrese Nombre Y Apellido: Nicolas Pecora\n",
      "Bienvenido Nicolas Pecora\n"
     ]
    }
   ],
   "source": [
    "edad = int(input(\"ingrese edad: \"))\n",
    "nombre = input(\"Ingrese Nombre Y Apellido: \")\n",
    "\n",
    "if edad > 16:\n",
    "    print(f\"Bienvenido {nombre}\")\n",
    "else:\n",
    "    print (\"Debe ser mayor de 16 años\")"
   ]
  },
  {
   "cell_type": "markdown",
   "id": "607b3317",
   "metadata": {},
   "source": [
    "7) Ingresar 3 números. Calcular el promedio en una nueva variable. Si el promedio en menor que 4,informar que está desaprobado. Si el promedio es entre 4 y 7 informar que debe rendir final. Si el promedio es igual o mayor a 7 informar que promociona y la nota final.\n"
   ]
  },
  {
   "cell_type": "code",
   "execution_count": 30,
   "id": "dfdfb784",
   "metadata": {},
   "outputs": [
    {
     "name": "stdout",
     "output_type": "stream",
     "text": [
      "Ingrese numero: 1\n",
      "Ingrese numero: 2\n",
      "Ingrese numero: 3\n",
      "Esta desaprobado\n"
     ]
    }
   ],
   "source": [
    "numero1 = int(input(\"Ingrese numero: \"))\n",
    "numero2 = int(input(\"Ingrese numero: \"))\n",
    "numero3 = int(input(\"Ingrese numero: \"))\n",
    "promedio = (numero1 + numero2 + numero3)/3\n",
    "if promedio in [4,5,6]:\n",
    "    print(\"Debe ir a final\")\n",
    "elif promedio >= 7:\n",
    "    print(\"esta aprobado\")\n",
    "elif promedio < 4:\n",
    "    print(\"Esta desaprobado\")"
   ]
  },
  {
   "cell_type": "code",
   "execution_count": null,
   "id": "eb1998cb",
   "metadata": {},
   "outputs": [],
   "source": []
  }
 ],
 "metadata": {
  "kernelspec": {
   "display_name": "Python 3 (ipykernel)",
   "language": "python",
   "name": "python3"
  },
  "language_info": {
   "codemirror_mode": {
    "name": "ipython",
    "version": 3
   },
   "file_extension": ".py",
   "mimetype": "text/x-python",
   "name": "python",
   "nbconvert_exporter": "python",
   "pygments_lexer": "ipython3",
   "version": "3.10.9"
  }
 },
 "nbformat": 4,
 "nbformat_minor": 5
}
