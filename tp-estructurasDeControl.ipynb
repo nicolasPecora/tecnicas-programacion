{
 "cells": [
  {
   "cell_type": "markdown",
   "id": "f57038c8",
   "metadata": {},
   "source": [
    "## Trabajo Practico - Estucturas de Control"
   ]
  },
  {
   "cell_type": "markdown",
   "id": "9f30f45a",
   "metadata": {},
   "source": [
    "### Para todos los ejercicios:"
   ]
  },
  {
   "cell_type": "markdown",
   "id": "a3afbf12",
   "metadata": {},
   "source": [
    "* Leer atentamente el enunciado.\n",
    "* Resolverlo manualmente con lápiz y papel.\n",
    "* Seleccionar datos de prueba de los que conozcan el resultado. Los datos de prueba deben probar todas las opciones.\n",
    "* Realizar el algoritmo.\n",
    "* Realizar el programa.\n",
    "* Probarlo con los datos de prueba."
   ]
  },
  {
   "cell_type": "markdown",
   "id": "083899cf",
   "metadata": {},
   "source": [
    "### Condicionales"
   ]
  },
  {
   "cell_type": "markdown",
   "id": "950ed48e",
   "metadata": {},
   "source": [
    "1) Para una aplicación se necesita validar la fecha ingresada por el usuario. El usuario ingresa un entero\n",
    "para el día, un entero para el mes y un entero para el año (año completo, 4 dígitos). No hay que validar\n",
    "si los datos ingresados son eneros o no, solo si la fecha es válida. Salida: imprimir “Fecha valida” o\n",
    "“Fecha invalida”.\n",
    "NOTA: Está prohibido utilizar la librería estándar datetime.\n",
    "dia=int(input(“Ingrese el día:”))\n",
    "mes=int(input(“Ingrese el mes:”))\n",
    "anio=int(input(“Ingrese el año:”))\n",
    "#utilizo la variable anio para evitar la ñ en la variable\n",
    "...continuar el programa.\n"
   ]
  },
  {
   "cell_type": "code",
   "execution_count": 32,
   "id": "00ce2162",
   "metadata": {},
   "outputs": [
    {
     "name": "stdout",
     "output_type": "stream",
     "text": [
      "\n",
      "                    \n",
      "                    | Verificador de Fechas Validas |\n",
      "                    =================================   \n",
      "                                                 ** por Nicolas Pecora **\n",
      "\n",
      "          Ingrese dos valores para dia, dos para mes y cuatro para año \n",
      "Ingrese el día (DD):23\n",
      "Ingrese el mes (MM): 1\n",
      "Ingrese el año (YYYY): 1977\n",
      "El 23/1/1977 es una fecha VALIDA\n",
      "¿Desea ingresar otra fecha? (s/n): s\n",
      "Ingrese el día (DD):8\n",
      "Ingrese el mes (MM): 13\n",
      "Ingrese el año (YYYY): 2040\n",
      "El 8/13/2040 es una fecha INVALIDA\n",
      "¿Desea ingresar otra fecha? (s/n): n\n",
      "Gracias por usar el Verificador de Fechas\n"
     ]
    }
   ],
   "source": [
    "\"\"\"\n",
    "                        *********************\n",
    "                        *   EJERCICIO N°1:  *\n",
    "                        *********************\n",
    "\n",
    "Alumno: Nicolas Pecora.\n",
    "\n",
    "Profesor: Jose Luis Perez.\n",
    "\n",
    "\n",
    "\"\"\"\n",
    "continuar = \"s\"\n",
    "print(\"\"\"\n",
    "                    \n",
    "                    | Verificador de Fechas Validas |\n",
    "                    =================================   \n",
    "                                                 ** por Nicolas Pecora **\n",
    "\n",
    "          Ingrese dos valores para dia, dos para mes y cuatro para año \"\"\")\n",
    "while continuar == \"s\" or continuar == \"S\" or continuar == \"si\" or continuar == \"Si\" or continuar == \"SI\":\n",
    "    \n",
    "    dia=int(input(\"Ingrese el día (DD):\"))\n",
    "    mes=int(input(\"Ingrese el mes (MM): \"))\n",
    "    anio=int(input(\"Ingrese el año (YYYY): \"))\n",
    "\n",
    "\n",
    "    #pregunnto sobre valores incorrectos de dias, meses y años\n",
    "\n",
    "    if ((anio <=0 or dia >=32 or dia <=0 or mes >=13 or mes <=0)\n",
    "\n",
    "    #pregunto si los dias 31 estan en los meses con 30 dias\n",
    "    or (dia == 31 and mes in [2,4,6,9,11])\n",
    "\n",
    "    # pregunto si el dia 30 esta en febrero\n",
    "    or (dia == 30 and mes == 2)\n",
    "\n",
    "    # pregunto si el 29 de febrero es en año biciesto\n",
    "    or (dia == 29 and not(anio % 4 == 0 and (anio % 100 != 0 or anio % 400 == 0)))):\n",
    "        print (f\"El {dia}/{mes}/{anio} es una fecha INVALIDA\")\n",
    "    else:\n",
    "        print (f\"El {dia}/{mes}/{anio} es una fecha VALIDA\")\n",
    "\n",
    "    continuar = input(\"¿Desea ingresar otra fecha? (s/n): \")\n",
    "\n",
    "print(\"Gracias por usar el Verificador de Fechas\")\n"
   ]
  },
  {
   "cell_type": "markdown",
   "id": "366bc314",
   "metadata": {},
   "source": [
    "2) Para un programa se necesita imprimir por pantalla un listado de las fichas de dominó. Se puede utilizar el “0” (cero) para representar las fichas sin puntos. Tener en cuenta que, por ejemplo, “4-5” y “5-4” son la misma ficha y no puede estar duplicada en el listado.\n"
   ]
  },
  {
   "cell_type": "code",
   "execution_count": 33,
   "id": "cd7439d0",
   "metadata": {},
   "outputs": [
    {
     "name": "stdout",
     "output_type": "stream",
     "text": [
      "6 : 0    6 : 1    6 : 2    6 : 3    6 : 4    6 : 5    6 : 6    \n",
      "\n",
      "5 : 0    5 : 1    5 : 2    5 : 3    5 : 4    5 : 5    \n",
      "\n",
      "4 : 0    4 : 1    4 : 2    4 : 3    4 : 4    \n",
      "\n",
      "3 : 0    3 : 1    3 : 2    3 : 3    \n",
      "\n",
      "2 : 0    2 : 1    2 : 2    \n",
      "\n",
      "1 : 0    1 : 1    \n",
      "\n",
      "0 : 0    \n",
      "\n"
     ]
    }
   ],
   "source": [
    "\"\"\"\n",
    "                        *********************\n",
    "                        *   EJERCICIO N°2:  *\n",
    "                        *********************\n",
    "\n",
    "Alumno: Nicolas Pecora.\n",
    "\n",
    "Profesor: Jose Luis Perez.\n",
    "\n",
    "\n",
    "\"\"\"\n",
    "\n",
    "for cara1 in range (7, 0, -1):\n",
    "    for cara2 in range(0, cara1):\n",
    "        print(cara1-1,\":\", cara2, end=\"    \")\n",
    "    print(\"\\n\")\n",
    "\n",
    "    \n",
    "    \n",
    "    \n",
    "\n"
   ]
  },
  {
   "cell_type": "markdown",
   "id": "a340f8ed",
   "metadata": {},
   "source": [
    "3)En un juego se mide el tiempo que tardó en completarlo en segundos (entero), para el trabajo, se\n",
    "ingresa por teclado. Se pide que se muestre el tiempo en el formato HH:MM:SS, utilizando 2 cifras\n",
    "para la hora (HH), 2 cifras para los minutos (MM) y 2 cifras para los segundos (SS).\n",
    "NOTA: Está prohibido utilizar la librería estándar datetime.\n",
    "segundos=int(input(“Ingrese el tiempo en segundos:”))\n",
    "...continuar el programa.\n",
    "Nota: En las especificaciones del problema falta indicar que debe hace el programa en ciertos casos.\n",
    "Identificar los casos no especificados. Decidir como debe actuar el programa en esos casos. Informen\n",
    "sus decisiones y ajusten el programa para implementar sus decisiones.\n"
   ]
  },
  {
   "cell_type": "code",
   "execution_count": 45,
   "id": "6068fa7a",
   "metadata": {},
   "outputs": [
    {
     "name": "stdout",
     "output_type": "stream",
     "text": [
      "        |Transformador de Segundos a Horas, Minutos y Segundos|\n",
      "         *****************************************************\n",
      "\n",
      "                 El formato de transformacion es de HH:MM:SS.\n",
      "                        El maximo es de 99:59:59                 \n",
      "\n",
      "               \n",
      "\n",
      "Ingrese el tiempo en segundos: 3600\n",
      "Su transformacion es: 01:00:00\n",
      "¿Desea ingresar otra fecha? (s/n): s\n",
      "Ingrese el tiempo en segundos: 567898\n",
      "Supera el formato de 99 horas.\n",
      "    ¿Desea conocerlo Dias, Horas, Minutos y Segundos?\n",
      "    SI (s) NO (n): si\n",
      "Su transformacion es: 6Dias, 13:44:58\n",
      "¿Desea ingresar otra fecha? (s/n): s\n",
      "Ingrese el tiempo en segundos: 469756\n",
      "Supera el formato de 99 horas.\n",
      "    ¿Desea conocerlo Dias, Horas, Minutos y Segundos?\n",
      "    SI (s) NO (n): n\n",
      "formato incorrecto\n",
      "¿Desea ingresar otra fecha? (s/n): n\n",
      "Gracias por usar el Transformador de Segundos a Horas, Minutos y Segundos\n"
     ]
    }
   ],
   "source": [
    "\"\"\"\n",
    "                        *********************\n",
    "                        *   EJERCICIO N°3  *\n",
    "                        *********************\n",
    "\n",
    "Alumno: Nicolas Pecora. \n",
    "\n",
    "Profesor: Luis Perez.\n",
    "\n",
    "Ingresos de segundos claves: 359999, 360000\n",
    "\n",
    "\n",
    "\"\"\"\n",
    "\n",
    "print(\"\"\"        |Transformador de Segundos a Horas, Minutos y Segundos|\n",
    "         *****************************************************\n",
    "\n",
    "                 El formato de transformacion es de HH:MM:SS.\n",
    "                        El maximo es de 99:59:59                 \n",
    "\n",
    "               \n",
    "\"\"\")\n",
    "continuar = \"s\"\n",
    "\n",
    "while continuar == \"s\" or continuar == \"S\" or continuar == \"si\" or continuar == \"Si\" or continuar == \"SI\":     \n",
    "\n",
    "    segundos = int(input(\"Ingrese el tiempo en segundos: \"))\n",
    "\n",
    "    minutos = segundos//60\n",
    "\n",
    "    segundos = segundos%60\n",
    "\n",
    "    horas = int(minutos//60)\n",
    "\n",
    "    minutos = int(minutos%60)\n",
    "\n",
    "    dias = int(horas//24)\n",
    "\n",
    "    horas2 = int(horas%24)\n",
    "\n",
    "    if horas > 99:\n",
    "        autorizacion = input(\"\"\"Supera el formato de 99 horas.\n",
    "    ¿Desea conocerlo Dias, Horas, Minutos y Segundos?\n",
    "    SI (s) NO (n): \"\"\")\n",
    "        if autorizacion == \"n\" or autorizacion == \"N\" or autorizacion == \"No\" or autorizacion == \"NO\" or autorizacion == \"no\":\n",
    "            print(\"formato incorrecto\")\n",
    "        else: print(f\"Su transformacion es: {dias}Dias, {horas2:02d}:{minutos:02d}:{segundos:02d}\")\n",
    "    else: print(f\"Su transformacion es: {horas:02d}:{minutos:02d}:{segundos:02d}\")\n",
    "\n",
    "    continuar = input(\"¿Desea ingresar otra fecha? (s/n): \")\n",
    "print(\"Gracias por usar el Transformador de Segundos a Horas, Minutos y Segundos\")"
   ]
  },
  {
   "cell_type": "markdown",
   "id": "6e866065",
   "metadata": {},
   "source": [
    "4)En una fábrica, una balanza automática pesa tandas de galletitas. Para el ejercicio, los valores se\n",
    "ingresan por teclado. Las galletitas se acumulan, cuando el peso acumulado es igual o superior al peso\n",
    "que debe tener el paquete, se informa por pantalla para cambiar el paquete. El peso del paquete debe\n",
    "ser un parámetro en el programa y puede cambiarse en cada ejecución.\n"
   ]
  },
  {
   "cell_type": "code",
   "execution_count": 46,
   "id": "7adee2a3",
   "metadata": {},
   "outputs": [
    {
     "name": "stdout",
     "output_type": "stream",
     "text": [
      "\n",
      "                    \n",
      "                    | Empaquetadora de Galletitas   |\n",
      "                    =================================   \n",
      "                                                 ** por Nicolas Pecora **\n",
      "\n",
      "            Ingrese el tamaño expresado en gramos del paquete\n",
      "     y luego ingrese tandas de galletitas tambien expresada en gramos\n",
      "\n",
      "     \n",
      "Ingrese gramaje del paquete: 50\n",
      "Ingrese cantidad de galletitas  en gramos: 23\n",
      "Ingrese cantidad de galletitas  en gramos: 23\n",
      "Ingrese cantidad de galletitas  en gramos: 23\n",
      "Paquete lleno, ¿Desea agregar un paquete nuevo? SI(s), NO(n): s\n",
      "Ingrese cantidad de galletitas  en gramos: 34\n",
      "Paquete lleno, ¿Desea agregar un paquete nuevo? SI(s), NO(n): s\n",
      "Ingrese cantidad de galletitas  en gramos: 12\n",
      "Ingrese cantidad de galletitas  en gramos: 45\n",
      "Paquete lleno, ¿Desea agregar un paquete nuevo? SI(s), NO(n): n\n",
      "La cantidad de paquetes llenados son: 3. Quedaron sin empaquetar: 10 gramos\n"
     ]
    }
   ],
   "source": [
    "\"\"\"\n",
    "                        *********************\n",
    "                        *   EJERCICIO N°4   *\n",
    "                        *********************\n",
    "\n",
    "Alumno: Nicolas Pecora.\n",
    "\n",
    "Profesor: Luis Perez.\n",
    "\n",
    "\n",
    "\"\"\"\n",
    "\n",
    "continuar = \"s\"\n",
    "print(\"\"\"\n",
    "                    \n",
    "                    | Empaquetadora de Galletitas   |\n",
    "                    =================================   \n",
    "                                                 ** por Nicolas Pecora **\n",
    "\n",
    "            Ingrese el tamaño expresado en gramos del paquete\n",
    "     y luego ingrese tandas de galletitas tambien expresada en gramos\n",
    "\n",
    "     \"\"\")\n",
    "\n",
    "tamanio_paquete = int(input(\"Ingrese gramaje del paquete: \"))\n",
    "total_galletitas = 0\n",
    "cantidad_paquetes = 0\n",
    "while total_galletitas <= tamanio_paquete:\n",
    "    galletitas = int(input(\"Ingrese cantidad de galletitas  en gramos: \"))\n",
    "    total_galletitas = total_galletitas + galletitas\n",
    "    if tamanio_paquete <= total_galletitas:\n",
    "        continuar = input(\"Paquete lleno, ¿Desea agregar un paquete nuevo? SI(s), NO(n): \")\n",
    "        if continuar == \"si\" or continuar == \"s\" or continuar == \"Si\" or continuar == \"SI\":\n",
    "            while total_galletitas >= tamanio_paquete:\n",
    "                cantidad_paquetes = cantidad_paquetes +1\n",
    "                total_galletitas = total_galletitas - tamanio_paquete\n",
    "        else: cantidad_paquetes = cantidad_paquetes +1\n",
    "total_galletitas = total_galletitas - tamanio_paquete        \n",
    "print(f\"La cantidad de paquetes llenados son: {cantidad_paquetes}. Quedaron sin empaquetar: {total_galletitas} gramos\")     "
   ]
  },
  {
   "cell_type": "markdown",
   "id": "a9f95b34",
   "metadata": {},
   "source": [
    "5) En una fábrica de panificados se tiene un silo para almacenar la harina. La capacidad del silo debe ser\n",
    "un parámetro del programa y se puede cambiar en cada ejecución. Un operario le ingresa la cantidad\n",
    "de harina requerida para la preparación (ingreso por teclado). El programa debe informar si la\n",
    "cantidad de harina del silo suficiente para realizar la preparación. Si la cantidad es suficiente lo informa\n",
    "y actualiza la cantidad harina restante en el silo. Si no es suficiente, lo informa y cancela la\n",
    "preparación.\n"
   ]
  },
  {
   "cell_type": "code",
   "execution_count": 43,
   "id": "2cfd1636",
   "metadata": {},
   "outputs": [
    {
     "name": "stdout",
     "output_type": "stream",
     "text": [
      "\n",
      "                    \n",
      "                    | Silo de Panificadora |\n",
      "                    ========================   \n",
      "                                                 ** por Nicolas Pecora **\n",
      "\n",
      "            Ingrese la capacidad del silo de harina en gramos\n",
      " y luego ingrese la cantidad necesaria de harina para la preparacion. \n",
      "\n",
      "     \n",
      "Ingrese capacidad del silo: 500\n",
      "Ingrese cantidad de harina para la preparacion: 50\n",
      "La capacidad del silo es de 500 gramos y es suficiente para la preparacion.\n",
      "¿Desea hacer otra preparacion?s\n",
      "Ingrese cantidad de harina para la preparacion: 449\n",
      "La capacidad del silo es de 450 gramos y es suficiente para la preparacion.\n",
      "¿Desea hacer otra preparacion?s\n",
      "Ingrese cantidad de harina para la preparacion: 45\n",
      "La capacidad del silo es de 1 gramos y NO es suficiente para la preparacion que es de 45 gramos.\n"
     ]
    }
   ],
   "source": [
    "\"\"\"\n",
    "                        *********************\n",
    "                        *   EJERCICIO N° 5  *\n",
    "                        *********************\n",
    "\n",
    "Alumno: Nicolas Pecora.\n",
    "\n",
    "Profesor: Luis Perez.\n",
    "\n",
    "\n",
    "\"\"\"\n",
    "\n",
    "continuar = \"s\"\n",
    "print(\"\"\"\n",
    "                    \n",
    "                    | Silo de Panificadora |\n",
    "                    ========================   \n",
    "                                                 ** por Nicolas Pecora **\n",
    "\n",
    "            Ingrese la capacidad del silo de harina en gramos\n",
    " y luego ingrese la cantidad necesaria de harina para la preparacion. \n",
    "\n",
    "     \"\"\")\n",
    "otra_preparacion = \"s\"\n",
    "silo = int(input(\"Ingrese capacidad del silo: \"))\n",
    "while otra_preparacion == \"s\":\n",
    "    harina = int(input(\"Ingrese cantidad de harina para la preparacion: \"))\n",
    "\n",
    "    if silo - harina >= 0:\n",
    "        print(f\"La capacidad del silo es de {silo} gramos y es suficiente para la preparacion.\")\n",
    "        silo = silo - harina\n",
    "        otra_preparacion = input(\"¿Desea hacer otra preparacion?\")\n",
    "    else:\n",
    "        print(f\"La capacidad del silo es de {silo} gramos y NO es suficiente para la preparacion que es de {harina} gramos.\")\n",
    "        otra_preparacion = \"n\""
   ]
  },
  {
   "cell_type": "code",
   "execution_count": null,
   "id": "d80683c1",
   "metadata": {},
   "outputs": [],
   "source": []
  }
 ],
 "metadata": {
  "kernelspec": {
   "display_name": "Python 3 (ipykernel)",
   "language": "python",
   "name": "python3"
  },
  "language_info": {
   "codemirror_mode": {
    "name": "ipython",
    "version": 3
   },
   "file_extension": ".py",
   "mimetype": "text/x-python",
   "name": "python",
   "nbconvert_exporter": "python",
   "pygments_lexer": "ipython3",
   "version": "3.10.9"
  }
 },
 "nbformat": 4,
 "nbformat_minor": 5
}
