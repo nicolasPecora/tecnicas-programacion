{
 "cells": [
  {
   "cell_type": "markdown",
   "metadata": {},
   "source": [
    "## Ejercicios programación (Python)"
   ]
  },
  {
   "cell_type": "markdown",
   "metadata": {},
   "source": [
    "### Para todos los ejercicios:"
   ]
  },
  {
   "cell_type": "markdown",
   "metadata": {},
   "source": [
    "* Leer atentamente el enunciado.\n",
    "* Resolverlo manualmente con lápiz y papel.\n",
    "* Seleccionar datos de prueba de los que conozcan el resultado. Los datos de prueba deben probar todas las opciones.\n",
    "* Realizar el algoritmo.\n",
    "* Realizar el programa.\n",
    "* Probarlo con los datos de prueba."
   ]
  },
  {
   "cell_type": "markdown",
   "metadata": {},
   "source": [
    "### Vectores y listas"
   ]
  },
  {
   "cell_type": "markdown",
   "metadata": {},
   "source": [
    "1) Corregir el código para cumplir con la consigna.\n",
    "Ingresar 5 números y guardarlos en un vector. Al finalizar informar el número menor.\n",
    "\n"
   ]
  },
  {
   "cell_type": "code",
   "execution_count": null,
   "metadata": {},
   "outputs": [],
   "source": [
    "vector = []\n",
    "for n in range(5):\n",
    "    nuevo = float(input(\"Ingrese el siguiente número:\"))\n",
    "    vector.append(nuevo)\n",
    "menor=0\n",
    "for elemento in vector:\n",
    "    if elemento < menor:\n",
    "        menor=elemento\n",
    "print (\"El número menor es:\", menor)"
   ]
  },
  {
   "cell_type": "code",
   "execution_count": null,
   "metadata": {},
   "outputs": [],
   "source": []
  }
 ],
 "metadata": {
  "kernelspec": {
   "display_name": "Python 3 (ipykernel)",
   "language": "python",
   "name": "python3"
  },
  "language_info": {
   "codemirror_mode": {
    "name": "ipython",
    "version": 3
   },
   "file_extension": ".py",
   "mimetype": "text/x-python",
   "name": "python",
   "nbconvert_exporter": "python",
   "pygments_lexer": "ipython3",
   "version": "3.10.9"
  }
 },
 "nbformat": 4,
 "nbformat_minor": 2
}
