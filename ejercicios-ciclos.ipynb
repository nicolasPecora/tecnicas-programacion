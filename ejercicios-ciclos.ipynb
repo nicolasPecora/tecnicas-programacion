{
 "cells": [
  {
   "cell_type": "markdown",
   "id": "f71edb16",
   "metadata": {},
   "source": [
    "## Ejercicios programación (Python)"
   ]
  },
  {
   "cell_type": "markdown",
   "id": "d20db7c0",
   "metadata": {},
   "source": [
    "### Para todos los ejercicios:"
   ]
  },
  {
   "cell_type": "markdown",
   "id": "32a8a134",
   "metadata": {},
   "source": [
    "* Leer atentamente el enunciado.\n",
    "* Resolverlo manualmente con lápiz y papel.\n",
    "* Seleccionar datos de prueba de los que conozcan el resultado. Los datos de prueba deben probar todas las opciones.\n",
    "* Realizar el algoritmo.\n",
    "* Realizar el programa.\n",
    "* Probarlo con los datos de prueba."
   ]
  },
  {
   "cell_type": "markdown",
   "id": "070fea54",
   "metadata": {},
   "source": [
    "### Ciclos"
   ]
  },
  {
   "cell_type": "markdown",
   "id": "db4b77d7",
   "metadata": {},
   "source": [
    "1) Corregir el código para cumplir con la consigna. Imprimir la tabla de multiplicar del 4 del 0 al 10."
   ]
  },
  {
   "cell_type": "code",
   "execution_count": 23,
   "id": "1d1a1903",
   "metadata": {},
   "outputs": [
    {
     "name": "stdout",
     "output_type": "stream",
     "text": [
      "0 * 4 = 0\n",
      "1 * 4 = 3\n",
      "2 * 4 = 6\n",
      "3 * 4 = 9\n",
      "4 * 4 = 12\n",
      "5 * 4 = 15\n",
      "6 * 4 = 18\n",
      "7 * 4 = 21\n"
     ]
    }
   ],
   "source": [
    "for i in range (8):\n",
    "    multiplicacion = i * 3\n",
    "    print(i,\"* 4 =\", multiplicacion)"
   ]
  },
  {
   "cell_type": "code",
   "execution_count": 22,
   "id": "c741c82a",
   "metadata": {},
   "outputs": [
    {
     "name": "stdout",
     "output_type": "stream",
     "text": [
      "0 * 4 = 0\n",
      "1 * 4 = 3\n",
      "2 * 4 = 6\n",
      "3 * 4 = 9\n",
      "4 * 4 = 12\n",
      "5 * 4 = 15\n",
      "6 * 4 = 18\n",
      "7 * 4 = 21\n",
      "8 * 4 = 24\n",
      "9 * 4 = 27\n",
      "10 * 4 = 30\n"
     ]
    }
   ],
   "source": [
    "for i in range (11):\n",
    "    multiplicacion = i * 3\n",
    "    print(i,\"* 4 =\", multiplicacion)"
   ]
  },
  {
   "cell_type": "markdown",
   "id": "13d76489",
   "metadata": {},
   "source": [
    "2) Corregir el código para cumplir con la consigna.\n",
    "Ingresar números hasta que la suma sea mayor a 10. Al finalizar imprimir el resultado de la suma.\n"
   ]
  },
  {
   "cell_type": "code",
   "execution_count": null,
   "id": "2a529840",
   "metadata": {},
   "outputs": [],
   "source": [
    "suma=0\n",
    "while suma < 10:\n",
    "    nuevo = int(input (\"Ingrese un nuevo número:\"))\n",
    "    print (\"La suma es: \", suma)"
   ]
  },
  {
   "cell_type": "code",
   "execution_count": 1,
   "id": "dbfbc385",
   "metadata": {},
   "outputs": [
    {
     "name": "stdout",
     "output_type": "stream",
     "text": [
      "Ingrese nuevo numero: 2\n",
      "la suma es:  2\n",
      "Ingrese nuevo numero: 3\n",
      "la suma es:  5\n",
      "Ingrese nuevo numero: 5\n",
      "la suma es:  10\n"
     ]
    }
   ],
   "source": [
    "# Correccion\n",
    "suma = 0\n",
    "while suma < 10:\n",
    "    nuevo = int(input(\"Ingrese nuevo numero: \"))\n",
    "    suma = suma + nuevo\n",
    "    print (\"la suma es: \", suma)\n"
   ]
  },
  {
   "cell_type": "markdown",
   "id": "b41e0788",
   "metadata": {},
   "source": [
    "3) Mostrar los números del 1 al 10. Un número por línea.\n"
   ]
  },
  {
   "cell_type": "code",
   "execution_count": 2,
   "id": "c11ce2c1",
   "metadata": {},
   "outputs": [
    {
     "name": "stdout",
     "output_type": "stream",
     "text": [
      "1\n",
      "2\n",
      "3\n",
      "4\n",
      "5\n",
      "6\n",
      "7\n",
      "8\n",
      "9\n",
      "10\n"
     ]
    }
   ],
   "source": [
    "for i in range(10):\n",
    "    print(i + 1)"
   ]
  },
  {
   "cell_type": "markdown",
   "id": "1f0359e8",
   "metadata": {},
   "source": [
    "4) Mostrar los números del 10 al 1. Un número por línea.\n"
   ]
  },
  {
   "cell_type": "code",
   "execution_count": 3,
   "id": "062b4885",
   "metadata": {},
   "outputs": [
    {
     "name": "stdout",
     "output_type": "stream",
     "text": [
      "10\n",
      "9\n",
      "8\n",
      "7\n",
      "6\n",
      "5\n",
      "4\n",
      "3\n",
      "2\n",
      "1\n"
     ]
    }
   ],
   "source": [
    "for i in range(10,0,-1):\n",
    "    print(i)"
   ]
  },
  {
   "cell_type": "markdown",
   "id": "f0d5ab60",
   "metadata": {},
   "source": [
    "5) Mostrar los números del 1 al 12, en dos columnas. La primera columna con los números impares, la\n",
    "segunda con los números pares.\n"
   ]
  },
  {
   "cell_type": "code",
   "execution_count": 4,
   "id": "8a8743a8",
   "metadata": {},
   "outputs": [
    {
     "name": "stdout",
     "output_type": "stream",
     "text": [
      "  1   2\n",
      "  3   4\n",
      "  5   6\n",
      "  7   8\n",
      "  9   10\n",
      "  11   12\n"
     ]
    }
   ],
   "source": [
    "for i in range(0,11,+2):\n",
    "    print(f\"  {i+1}   {i+2}\")"
   ]
  },
  {
   "cell_type": "markdown",
   "id": "656df557",
   "metadata": {},
   "source": [
    "6) Mostrar los números del 1 al 12, en dos columnas. La primera columna con los número del 1 al 6, la\n",
    "segunda con los números del 7 al 12."
   ]
  },
  {
   "cell_type": "code",
   "execution_count": 5,
   "id": "7b57e701",
   "metadata": {},
   "outputs": [
    {
     "name": "stdout",
     "output_type": "stream",
     "text": [
      "1  7\n",
      "2  8\n",
      "3  9\n",
      "4  10\n",
      "5  11\n",
      "6  12\n"
     ]
    }
   ],
   "source": [
    "for i in range(6):\n",
    " print(f\"{i+1}  {i+7}\")"
   ]
  },
  {
   "cell_type": "markdown",
   "id": "5eaba1eb",
   "metadata": {},
   "source": [
    "7) Ingresar números y sumarlos en una variable nueva, hasta que se ingresa un 0 (cero)\n"
   ]
  },
  {
   "cell_type": "code",
   "execution_count": 6,
   "id": "7d4ffe2f",
   "metadata": {},
   "outputs": [
    {
     "name": "stdout",
     "output_type": "stream",
     "text": [
      "ingrese numero:2\n",
      "2\n",
      "ingrese numero:3\n",
      "5\n",
      "ingrese numero:5\n",
      "10\n",
      "ingrese numero:6\n",
      "16\n",
      "ingrese numero:8\n",
      "24\n",
      "ingrese numero:9\n",
      "33\n",
      "ingrese numero:0\n",
      "33\n"
     ]
    }
   ],
   "source": [
    "numero = 1\n",
    "a = 0\n",
    "while numero != 0:\n",
    "    numero = int(input(\"ingrese numero:\"))\n",
    "    a = numero + a\n",
    "    print(a)"
   ]
  },
  {
   "cell_type": "markdown",
   "id": "c5ed2563",
   "metadata": {},
   "source": [
    "8) Ingresar números y sumarlos en una variable nueva, hasta que se ingresa un 0 (cero). Al finalizar la carga, informar el promedio (descartando el último 0)"
   ]
  },
  {
   "cell_type": "code",
   "execution_count": 7,
   "id": "e6ae34ea",
   "metadata": {},
   "outputs": [
    {
     "name": "stdout",
     "output_type": "stream",
     "text": [
      "ingrese numero:3\n",
      "3\n",
      "ingrese numero:5\n",
      "8\n",
      "ingrese numero:6\n",
      "14\n",
      "ingrese numero:8\n",
      "22\n",
      "ingrese numero:9\n",
      "31\n",
      "ingrese numero:0\n",
      "31\n",
      "6.2\n"
     ]
    }
   ],
   "source": [
    "promedio = 0\n",
    "numero = 1\n",
    "a = 0\n",
    "while numero != 0:\n",
    "    numero = int(input(\"ingrese numero:\"))\n",
    "    promedio = promedio + 1\n",
    "    a = numero + a\n",
    "    print(a)\n",
    "promedio1 = a/(promedio - 1)\n",
    "print (promedio1)"
   ]
  },
  {
   "cell_type": "markdown",
   "id": "e0f89baf",
   "metadata": {},
   "source": [
    "9) Ingresar números y sumarlos hasta que la suma sea igual o mayor a 20. Al finalizar informar el promedio."
   ]
  },
  {
   "cell_type": "code",
   "execution_count": 9,
   "id": "92d0593e",
   "metadata": {},
   "outputs": [
    {
     "name": "stdout",
     "output_type": "stream",
     "text": [
      "Ingrese nuevo numero: 3\n",
      "Ingrese nuevo numero: 5\n",
      "Ingrese nuevo numero: 8\n",
      "Ingrese nuevo numero: 9\n",
      "la suma es: 25 y el promedio es 6.25\n"
     ]
    }
   ],
   "source": [
    "promedio = 0\n",
    "suma = 0\n",
    "while suma <= 19:\n",
    "    nuevo = int(input(\"Ingrese nuevo numero: \"))\n",
    "    suma = suma + nuevo\n",
    "    promedio += 1 \n",
    "promedio2 = suma / promedio\n",
    "print (f\"la suma es: {suma} y el promedio es {promedio2}\")"
   ]
  },
  {
   "cell_type": "code",
   "execution_count": null,
   "id": "af283dba",
   "metadata": {},
   "outputs": [],
   "source": []
  }
 ],
 "metadata": {
  "kernelspec": {
   "display_name": "Python 3 (ipykernel)",
   "language": "python",
   "name": "python3"
  },
  "language_info": {
   "codemirror_mode": {
    "name": "ipython",
    "version": 3
   },
   "file_extension": ".py",
   "mimetype": "text/x-python",
   "name": "python",
   "nbconvert_exporter": "python",
   "pygments_lexer": "ipython3",
   "version": "3.10.9"
  }
 },
 "nbformat": 4,
 "nbformat_minor": 5
}
